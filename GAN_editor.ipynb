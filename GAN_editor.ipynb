{
  "nbformat": 4,
  "nbformat_minor": 0,
  "metadata": {
    "colab": {
      "name": "GAN_editor.ipynb",
      "provenance": []
    },
    "kernelspec": {
      "name": "python3",
      "display_name": "Python 3"
    }
  },
  "cells": [
    {
      "cell_type": "code",
      "metadata": {
        "id": "FsopsQyp-Mmg",
        "colab_type": "code",
        "colab": {}
      },
      "source": [
        "!git clone https://github.com/Rakshith-R/StyleGan_editor.git"
      ],
      "execution_count": 0,
      "outputs": []
    },
    {
      "cell_type": "code",
      "metadata": {
        "id": "7fl-mO_d-UNE",
        "colab_type": "code",
        "colab": {}
      },
      "source": [
        "%%capture\n",
        "%cd /content/stylegan2encoder/\n",
        "!unzip latent_directions-.zip"
      ],
      "execution_count": 0,
      "outputs": []
    },
    {
      "cell_type": "code",
      "metadata": {
        "id": "CMnpHbOm-VqX",
        "colab_type": "code",
        "colab": {}
      },
      "source": [
        "%cd stylegan2encoder \n",
        "%tensorflow_version 1.x\n",
        "import dnnlib.tflib as tflib\n",
        "import pretrained_networks\n",
        "import numpy as np\n",
        "import matplotlib.pyplot as plt\n",
        "import cv2\n",
        "from google.colab import files\n",
        "import io\n",
        "from contextlib import redirect_stdout\n",
        "import os\n",
        "import ipywidgets as widgets\n",
        "import pretrained_networks\n",
        "from encode_function import encode\n",
        "model_url='gdrive:networks/stylegan2-ffhq-config-f.pkl'\n",
        "!mkdir uploaded_images\n",
        "!mkdir aligned_images\n",
        "!mkdir generated_images\n",
        "!mkdir latents\n",
        "!mkdir image"
      ],
      "execution_count": 0,
      "outputs": []
    },
    {
      "cell_type": "markdown",
      "metadata": {
        "id": "CMBRlZNQ-lep",
        "colab_type": "text"
      },
      "source": [
        ""
      ]
    },
    {
      "cell_type": "code",
      "metadata": {
        "id": "pl6bnABQ-mWl",
        "colab_type": "code",
        "colab": {}
      },
      "source": [
        "%cd uploaded_images\n",
        "uploaded=files.upload() "
      ],
      "execution_count": 0,
      "outputs": []
    },
    {
      "cell_type": "code",
      "metadata": {
        "id": "uz-Otoum-oSH",
        "colab_type": "code",
        "colab": {}
      },
      "source": [
        "%%time\n",
        "%%capture\n",
        "%cd /content/stylegan2encoder/ \n",
        "!python align_images.py uploaded_images/ aligned_images/"
      ],
      "execution_count": 0,
      "outputs": []
    },
    {
      "cell_type": "markdown",
      "metadata": {
        "id": "YPaoDQny-qZQ",
        "colab_type": "text"
      },
      "source": [
        "## Upload latent vector if any"
      ]
    },
    {
      "cell_type": "code",
      "metadata": {
        "id": "9DUjAx1l-rhD",
        "colab_type": "code",
        "colab": {}
      },
      "source": [
        "%cd latents\n",
        "uploaded=files.upload() "
      ],
      "execution_count": 0,
      "outputs": []
    },
    {
      "cell_type": "code",
      "metadata": {
        "id": "Ia9xsqte-tXK",
        "colab_type": "code",
        "colab": {}
      },
      "source": [
        "%cd /content/stylegan2encoder/ \n",
        "%%time\n",
        "%%capture\n",
        "tflib.init_tf()\n",
        "generator=encode('aligned_images/', 'generated_images/', 'latents/')"
      ],
      "execution_count": 0,
      "outputs": []
    },
    {
      "cell_type": "code",
      "metadata": {
        "id": "K9mD9JmJ-xVk",
        "colab_type": "code",
        "colab": {}
      },
      "source": [
        "display(output_controls)\n",
        "widgets.HBox([output_orig,output_image])"
      ],
      "execution_count": 0,
      "outputs": []
    },
    {
      "cell_type": "code",
      "metadata": {
        "id": "6fBMK_Ah-0O2",
        "colab_type": "code",
        "colab": {}
      },
      "source": [
        "output_image=widgets.Output()\n",
        "output_controls=widgets.Output()\n",
        "output_orig=widgets.Output()\n",
        "path_dirc=\"/content/stylegan2encoder/latent_directions/\"\n",
        "path_lats=\"/content/stylegan2encoder/latents/\"\n",
        "gen_latents=os.listdir(path_lats)\n",
        "gen_latents={x[:-4]:np.load(path_lats+x) for x in gen_latents}\n",
        "directions=os.listdir(path_dirc)\n",
        "dir_latents={x[:-4]:np.load(path_dirc+x) for x in directions}\n",
        "selected_np=gen_latents[list(gen_latents.keys())[0]]\n",
        "Cur_img=None\n",
        "generator.set_dlatents(selected_np.reshape(1,selected_np.shape[0],selected_np.shape[1]))\n",
        "Cur_image=generator.generate_images()[0]\n",
        "output_orig.clear_output()\n",
        "with output_orig:\n",
        "    plt.figure(figsize=(10,10))\n",
        "    plt.imshow(Cur_image)\n",
        "    plt.show()\n",
        "drop_image=widgets.Dropdown(\n",
        "    options=list(gen_latents.keys()),\n",
        "    value=list(gen_latents.keys())[0],\n",
        "    description='Choose image to edit:',\n",
        "    layout=widgets.Layout(width='fit-content',margin='auto'),\n",
        "    style = {'description_width': 'initial'}\n",
        "\n",
        ")     \n",
        "                                                                                                                                                                                                                                                                                                                                                                                                                                                                                                                                                                                                                                                                                                                                                                                                                                                                                                                                                                                                                              \n",
        "drop_dir=widgets.Dropdown(\n",
        "    options=list(dir_latents.keys()),\n",
        "    value=list(dir_latents.keys())[0],\n",
        "    description='Choose feature to change:',\n",
        "    layout=widgets.Layout(width='fit-content',margin='auto'),\n",
        "    style = {'description_width': 'initial'}\n",
        ")\n",
        "button=widgets.Button(\n",
        "    description='Generate',\n",
        "    disabled=False,\n",
        "    button_style='', # 'success', 'info', 'warning', 'danger' or ''\n",
        "    tooltip='Click me',\n",
        "    icon='check' # (FontAwesome names without the `fa-` prefix)\n",
        ")\n",
        "d1,d2,selc=widgets.Button(\n",
        "    description='Download Image',\n",
        "    disabled=False,),widgets.Button(\n",
        "    description='Download Latent',\n",
        "    disabled=False,),widgets.Button(\n",
        "    description='Select',\n",
        "    disabled=False,)\n",
        "\n",
        "slid=widgets.FloatSlider( min=-3,max=+3,step=0.005,value=0)\n",
        "def refresh():\n",
        "    global selected_np,Cur_image\n",
        "    output_image.clear_output()\n",
        "    with output_image:\n",
        "        plt.figure(figsize=(10,10))\n",
        "        plt.imshow(Cur_image)\n",
        "        plt.show()\n",
        "\n",
        "def changed_img(change):\n",
        "    global selected_np,Cur_image\n",
        "    output_image.clear_output()\n",
        "    output_orig.clear_output()\n",
        "    selected_np=gen_latents[drop_image.value]\n",
        "    generator.set_dlatents(selected_np.reshape(1,selected_np.shape[0],selected_np.shape[1]))\n",
        "    Cur_image=generator.generate_images()[0]\n",
        "    \n",
        "    with output_orig:\n",
        "        plt.figure(figsize=(10,10))\n",
        "        plt.imshow(Cur_image)\n",
        "        plt.show()\n",
        "    refresh()\n",
        "def edit(change):\n",
        "    global selected_np,Cur_image\n",
        "    output_image.clear_output()\n",
        "    button.disabled=True\n",
        "    latent=selected_np-slid.value*dir_latents[drop_dir.value]\n",
        "    selected_np=latent\n",
        "    generator.set_dlatents(selected_np.reshape(1,selected_np.shape[0],selected_np.shape[1]))\n",
        "    Cur_image=generator.generate_images()[0]\n",
        "    slid.value=0\n",
        "    refresh()\n",
        "    button.disabled=False   \n",
        "def download_image(a):\n",
        "    cv2.imwrite(\"Generated_image.jpg\",Cur_image)\n",
        "    files.download(\"Generated_image.jpg\")\n",
        "def download_vector(a):\n",
        "    np.save(\"Generated_latent.npy\",selected_np)\n",
        "    files.download(\"Generated_latent.npy\")\n",
        "d1.on_click(download_image)\n",
        "d2.on_click(download_vector)\n",
        "selc.on_click(changed_img)\n",
        "drop_image.observe(changed_img,names='All')\n",
        "button.on_click(edit)\n",
        "output_controls.clear_output()\n",
        "with output_controls:\n",
        "    display(widgets.HBox([\n",
        "                  widgets.VBox([\n",
        "                       drop_image  ,\n",
        "                       selc,\n",
        "                       drop_dir,\n",
        "                       slid  ,\n",
        "                       button     \n",
        "                  ],layout=widgets.Layout(width='fit-content',margin='auto')),\n",
        "                  widgets.VBox([\n",
        "                                d1,d2],layout=widgets.Layout(width='fit-content',margin='auto'))\n",
        "\n",
        "    ]))\n",
        "refresh()\n"
      ],
      "execution_count": 0,
      "outputs": []
    }
  ]
}